{
 "cells": [
  {
   "cell_type": "code",
   "execution_count": 1,
   "metadata": {
    "_cell_guid": "b1076dfc-b9ad-4769-8c92-a6c4dae69d19",
    "_uuid": "8f2839f25d086af736a60e9eeb907d3b93b6e0e5",
    "execution": {
     "iopub.execute_input": "2021-02-19T22:48:40.700599Z",
     "iopub.status.busy": "2021-02-19T22:48:40.699607Z",
     "iopub.status.idle": "2021-02-19T22:48:40.739832Z",
     "shell.execute_reply": "2021-02-19T22:48:40.739046Z"
    },
    "papermill": {
     "duration": 0.054891,
     "end_time": "2021-02-19T22:48:40.740036",
     "exception": false,
     "start_time": "2021-02-19T22:48:40.685145",
     "status": "completed"
    },
    "tags": []
   },
   "outputs": [],
   "source": [
    "import numpy as np \n",
    "import pandas as pd\n",
    "import os\n",
    "import string\n",
    "from unidecode import unidecode\n",
    "import dill\n",
    "from IPython.display import Image as IPythonImage, display\n",
    "from PIL import Image\n",
    "import pytesseract\n",
    "from Levenshtein import jaro_winkler\n",
    "import matplotlib.pyplot as plt"
   ]
  },
  {
   "cell_type": "code",
   "execution_count": 2,
   "metadata": {
    "execution": {
     "iopub.execute_input": "2021-02-19T22:48:40.764984Z",
     "iopub.status.busy": "2021-02-19T22:48:40.764284Z",
     "iopub.status.idle": "2021-02-19T22:48:40.865807Z",
     "shell.execute_reply": "2021-02-19T22:48:40.865264Z"
    },
    "papermill": {
     "duration": 0.115554,
     "end_time": "2021-02-19T22:48:40.865950",
     "exception": false,
     "start_time": "2021-02-19T22:48:40.750396",
     "status": "completed"
    },
    "tags": []
   },
   "outputs": [
    {
     "data": {
      "text/html": [
       "<div>\n",
       "<style scoped>\n",
       "    .dataframe tbody tr th:only-of-type {\n",
       "        vertical-align: middle;\n",
       "    }\n",
       "\n",
       "    .dataframe tbody tr th {\n",
       "        vertical-align: top;\n",
       "    }\n",
       "\n",
       "    .dataframe thead th {\n",
       "        text-align: right;\n",
       "    }\n",
       "</style>\n",
       "<table border=\"1\" class=\"dataframe\">\n",
       "  <thead>\n",
       "    <tr style=\"text-align: right;\">\n",
       "      <th></th>\n",
       "      <th>FILENAME</th>\n",
       "      <th>IDENTITY</th>\n",
       "    </tr>\n",
       "  </thead>\n",
       "  <tbody>\n",
       "    <tr>\n",
       "      <th>0</th>\n",
       "      <td>VALIDATION_0001.jpg</td>\n",
       "      <td>BILEL</td>\n",
       "    </tr>\n",
       "    <tr>\n",
       "      <th>1</th>\n",
       "      <td>VALIDATION_0002.jpg</td>\n",
       "      <td>LAUMIONIER</td>\n",
       "    </tr>\n",
       "    <tr>\n",
       "      <th>2</th>\n",
       "      <td>VALIDATION_0003.jpg</td>\n",
       "      <td>LEA</td>\n",
       "    </tr>\n",
       "    <tr>\n",
       "      <th>3</th>\n",
       "      <td>VALIDATION_0004.jpg</td>\n",
       "      <td>JEAN-ROCH</td>\n",
       "    </tr>\n",
       "    <tr>\n",
       "      <th>4</th>\n",
       "      <td>VALIDATION_0005.jpg</td>\n",
       "      <td>RUPP</td>\n",
       "    </tr>\n",
       "  </tbody>\n",
       "</table>\n",
       "</div>"
      ],
      "text/plain": [
       "              FILENAME    IDENTITY\n",
       "0  VALIDATION_0001.jpg       BILEL\n",
       "1  VALIDATION_0002.jpg  LAUMIONIER\n",
       "2  VALIDATION_0003.jpg         LEA\n",
       "3  VALIDATION_0004.jpg   JEAN-ROCH\n",
       "4  VALIDATION_0005.jpg        RUPP"
      ]
     },
     "execution_count": 2,
     "metadata": {},
     "output_type": "execute_result"
    }
   ],
   "source": [
    "validation_df = pd.read_csv(\"../input/handwriting-recognition/written_name_validation_v2.csv\")\n",
    "validation_df.head()"
   ]
  },
  {
   "cell_type": "code",
   "execution_count": 3,
   "metadata": {
    "execution": {
     "iopub.execute_input": "2021-02-19T22:48:40.897094Z",
     "iopub.status.busy": "2021-02-19T22:48:40.896415Z",
     "iopub.status.idle": "2021-02-19T22:48:40.966301Z",
     "shell.execute_reply": "2021-02-19T22:48:40.966796Z"
    },
    "papermill": {
     "duration": 0.08985,
     "end_time": "2021-02-19T22:48:40.966964",
     "exception": false,
     "start_time": "2021-02-19T22:48:40.877114",
     "status": "completed"
    },
    "tags": []
   },
   "outputs": [
    {
     "name": "stdout",
     "output_type": "stream",
     "text": [
      "NAIS\n"
     ]
    },
    {
     "data": {
      "image/jpeg": "[encoded data removed]",
      "text/plain": [
       "<IPython.core.display.Image object>"
      ]
     },
     "metadata": {},
     "output_type": "display_data"
    },
    {
     "name": "stdout",
     "output_type": "stream",
     "text": [
      "ELEONORE\n"
     ]
    },
    {
     "data": {
      "image/jpeg": "[encoded data removed]",
      "text/plain": [
       "<IPython.core.display.Image object>"
      ]
     },
     "metadata": {},
     "output_type": "display_data"
    },
    {
     "name": "stdout",
     "output_type": "stream",
     "text": [
      "PAUL\n"
     ]
    },
    {
     "data": {
      "image/jpeg": "[encoded data removed]",
      "text/plain": [
       "<IPython.core.display.Image object>"
      ]
     },
     "metadata": {},
     "output_type": "display_data"
    },
    {
     "name": "stdout",
     "output_type": "stream",
     "text": [
      "PILET\n"
     ]
    },
    {
     "data": {
      "image/jpeg": "[encoded data removed]",
      "text/plain": [
       "<IPython.core.display.Image object>"
      ]
     },
     "metadata": {},
     "output_type": "display_data"
    }
   ],
   "source": [
    "PATH = '../input/handwriting-recognition/validation_v2/validation'\n",
    "NUMBER_OF_IMAGES = 4\n",
    "random_index = np.random.choice(validation_df.shape[0], NUMBER_OF_IMAGES, False)\n",
    "for row in validation_df.loc[random_index, :].itertuples(index=False):\n",
    "    filename = os.path.join(PATH, row.FILENAME)\n",
    "    print(row.IDENTITY)\n",
    "    display(IPythonImage(filename=filename))"
   ]
  },
  {
   "cell_type": "code",
   "execution_count": 4,
   "metadata": {
    "execution": {
     "iopub.execute_input": "2021-02-19T22:48:41.002153Z",
     "iopub.status.busy": "2021-02-19T22:48:41.001387Z",
     "iopub.status.idle": "2021-02-20T00:55:35.084294Z",
     "shell.execute_reply": "2021-02-20T00:55:35.083586Z"
    },
    "papermill": {
     "duration": 7614.103545,
     "end_time": "2021-02-20T00:55:35.084615",
     "exception": false,
     "start_time": "2021-02-19T22:48:40.981070",
     "status": "completed"
    },
    "tags": []
   },
   "outputs": [
    {
     "name": "stdout",
     "output_type": "stream",
     "text": [
      "Processed 5000 rows\n",
      "Processed 10000 rows\n",
      "Processed 15000 rows\n",
      "Processed 20000 rows\n",
      "Processed 25000 rows\n",
      "Processed 30000 rows\n",
      "Processed 35000 rows\n",
      "Processed 40000 rows\n"
     ]
    }
   ],
   "source": [
    "output = {}\n",
    "for row in validation_df.itertuples():\n",
    "    file_path = os.path.join(PATH, row.FILENAME)\n",
    "    image = Image.open(file_path)\n",
    "    text = pytesseract.image_to_string(image)\n",
    "    output[row.FILENAME] = text\n",
    "    if ((row.Index + 1) % 5000) == 0:\n",
    "        print(f\"Processed {row.Index + 1} rows\")"
   ]
  },
  {
   "cell_type": "code",
   "execution_count": 5,
   "metadata": {
    "execution": {
     "iopub.execute_input": "2021-02-20T00:55:35.123848Z",
     "iopub.status.busy": "2021-02-20T00:55:35.123088Z",
     "iopub.status.idle": "2021-02-20T00:56:38.474113Z",
     "shell.execute_reply": "2021-02-20T00:56:38.474661Z"
    },
    "papermill": {
     "duration": 63.37212,
     "end_time": "2021-02-20T00:56:38.474843",
     "exception": false,
     "start_time": "2021-02-20T00:55:35.102723",
     "status": "completed"
    },
    "tags": []
   },
   "outputs": [
    {
     "name": "stdout",
     "output_type": "stream",
     "text": [
      "Converted output from 5000 images\n",
      "Converted output from 10000 images\n",
      "Converted output from 15000 images\n",
      "Converted output from 20000 images\n",
      "Converted output from 25000 images\n",
      "Converted output from 30000 images\n",
      "Converted output from 35000 images\n",
      "Converted output from 40000 images\n"
     ]
    },
    {
     "data": {
      "text/plain": [
       "PRENOM                      3231\n",
       "NOM                         2742\n",
       "                             765\n",
       "Nom                          445\n",
       "                             259\n",
       "PRENOM.                      213\n",
       "NOM:                         147\n",
       "NOM :                        140\n",
       "NoM                          106\n",
       "DATE DE NAISSANCE CLASSE     100\n",
       "Name: TEXT, dtype: int64"
      ]
     },
     "execution_count": 5,
     "metadata": {},
     "output_type": "execute_result"
    }
   ],
   "source": [
    "result_df = pd.DataFrame()\n",
    "for i, (k, v) in enumerate(output.items()):\n",
    "    if (i + 1) % 5000 == 0:\n",
    "        print(f\"Converted output from {i + 1} images\")\n",
    "    \n",
    "    text = [t for t in v.split('\\n') if t not in ['', ' ', '\\n', '\\x0c']]\n",
    "    \n",
    "    temp_df = pd.DataFrame({\n",
    "        'FILENAME': [k] * len(text), \n",
    "        'TEXT': text\n",
    "    })\n",
    "    result_df = pd.concat([result_df, temp_df], ignore_index=True)\n",
    "\n",
    "# Look at the top 10 text tokens (these will probably be generic terms like \"nom\")\n",
    "result_df['TEXT'].value_counts().nlargest(10)"
   ]
  },
  {
   "cell_type": "code",
   "execution_count": 6,
   "metadata": {
    "execution": {
     "iopub.execute_input": "2021-02-20T00:56:38.532936Z",
     "iopub.status.busy": "2021-02-20T00:56:38.525105Z",
     "iopub.status.idle": "2021-02-20T00:56:38.605426Z",
     "shell.execute_reply": "2021-02-20T00:56:38.604679Z"
    },
    "papermill": {
     "duration": 0.111043,
     "end_time": "2021-02-20T00:56:38.605596",
     "exception": false,
     "start_time": "2021-02-20T00:56:38.494553",
     "status": "completed"
    },
    "tags": []
   },
   "outputs": [
    {
     "data": {
      "text/plain": [
       "10               RENOM: JERE AMY\n",
       "12              sPRENOM: YUL: EN\n",
       "14                  PRENOM: NACL\n",
       "15                   NOM: BILGER\n",
       "16                       PRENOM.\n",
       "18     DATE DE NAISSANCE CLASSE.\n",
       "21                          NOM:\n",
       "24          PRENOM: Cf i € 374 y\n",
       "30                           NOM\n",
       "35                           NOM\n",
       "37                          NOM:\n",
       "41                  NOM: F9RivaT\n",
       "50                           NOM\n",
       "52                           NOM\n",
       "61                RENOM: 1) XE b\n",
       "66                           NOM\n",
       "68                   Nom: DuBois\n",
       "70                     NOM : NAW\n",
       "76                        PRENOM\n",
       "79                           NOM\n",
       "86                           NOM\n",
       "89                  NOM: = FAURE\n",
       "92                           NOM\n",
       "94                        PRENOM\n",
       "99               NOM ; VAnNTOMUL\n",
       "102                       PRENOM\n",
       "104             |aqhENOM : LucAs\n",
       "105                       PRENOM\n",
       "107                          Nom\n",
       "111                  NOM: DEBRRD\n",
       "Name: TEXT, dtype: object"
      ]
     },
     "execution_count": 6,
     "metadata": {},
     "output_type": "execute_result"
    }
   ],
   "source": [
    "result_df\\\n",
    "    .loc[result_df['TEXT'].str.upper().str.contains('NOM|PRENOM|DATE DE NAISSANCE CLASSE') , \"TEXT\"]\\\n",
    "    .head(30)"
   ]
  },
  {
   "cell_type": "code",
   "execution_count": 7,
   "metadata": {
    "execution": {
     "iopub.execute_input": "2021-02-20T00:56:38.668096Z",
     "iopub.status.busy": "2021-02-20T00:56:38.662602Z",
     "iopub.status.idle": "2021-02-20T00:56:39.029466Z",
     "shell.execute_reply": "2021-02-20T00:56:39.028898Z"
    },
    "papermill": {
     "duration": 0.403528,
     "end_time": "2021-02-20T00:56:39.029691",
     "exception": false,
     "start_time": "2021-02-20T00:56:38.626163",
     "status": "completed"
    },
    "tags": []
   },
   "outputs": [
    {
     "data": {
      "text/html": [
       "<div>\n",
       "<style scoped>\n",
       "    .dataframe tbody tr th:only-of-type {\n",
       "        vertical-align: middle;\n",
       "    }\n",
       "\n",
       "    .dataframe tbody tr th {\n",
       "        vertical-align: top;\n",
       "    }\n",
       "\n",
       "    .dataframe thead th {\n",
       "        text-align: right;\n",
       "    }\n",
       "</style>\n",
       "<table border=\"1\" class=\"dataframe\">\n",
       "  <thead>\n",
       "    <tr style=\"text-align: right;\">\n",
       "      <th></th>\n",
       "      <th>FILENAME</th>\n",
       "      <th>TEXT</th>\n",
       "      <th>CLEAN_TEXT</th>\n",
       "    </tr>\n",
       "  </thead>\n",
       "  <tbody>\n",
       "    <tr>\n",
       "      <th>0</th>\n",
       "      <td>VALIDATION_0001.jpg</td>\n",
       "      <td>BiLeL</td>\n",
       "      <td>BiLeL</td>\n",
       "    </tr>\n",
       "    <tr>\n",
       "      <th>1</th>\n",
       "      <td>VALIDATION_0002.jpg</td>\n",
       "      <td>LAUMONIER</td>\n",
       "      <td>LAUMONIER</td>\n",
       "    </tr>\n",
       "    <tr>\n",
       "      <th>2</th>\n",
       "      <td>VALIDATION_0003.jpg</td>\n",
       "      <td></td>\n",
       "      <td></td>\n",
       "    </tr>\n",
       "    <tr>\n",
       "      <th>3</th>\n",
       "      <td>VALIDATION_0004.jpg</td>\n",
       "      <td>JTEAN-ROCH</td>\n",
       "      <td>JTEAN-ROCH</td>\n",
       "    </tr>\n",
       "    <tr>\n",
       "      <th>4</th>\n",
       "      <td>VALIDATION_0005.jpg</td>\n",
       "      <td>Ru er</td>\n",
       "      <td>Ru er</td>\n",
       "    </tr>\n",
       "    <tr>\n",
       "      <th>5</th>\n",
       "      <td>VALIDATION_0006.jpg</td>\n",
       "      <td>CODERNE/UAI; 0 642494 W</td>\n",
       "      <td>CODERNE/UAI; 0 642494 W</td>\n",
       "    </tr>\n",
       "    <tr>\n",
       "      <th>6</th>\n",
       "      <td>VALIDATION_0006.jpg</td>\n",
       "      <td>‘ne Sey 2</td>\n",
       "      <td>‘ne Sey 2</td>\n",
       "    </tr>\n",
       "    <tr>\n",
       "      <th>7</th>\n",
       "      <td>VALIDATION_0007.jpg</td>\n",
       "      <td></td>\n",
       "      <td></td>\n",
       "    </tr>\n",
       "    <tr>\n",
       "      <th>8</th>\n",
       "      <td>VALIDATION_0008.jpg</td>\n",
       "      <td>DAMI EL</td>\n",
       "      <td>DAMI EL</td>\n",
       "    </tr>\n",
       "    <tr>\n",
       "      <th>9</th>\n",
       "      <td>VALIDATION_0008.jpg</td>\n",
       "      <td></td>\n",
       "      <td></td>\n",
       "    </tr>\n",
       "    <tr>\n",
       "      <th>10</th>\n",
       "      <td>VALIDATION_0009.jpg</td>\n",
       "      <td>RENOM: JERE AMY</td>\n",
       "      <td>JERE AMY</td>\n",
       "    </tr>\n",
       "    <tr>\n",
       "      <th>11</th>\n",
       "      <td>VALIDATION_0010.jpg</td>\n",
       "      <td>TEAN-Mic HEL</td>\n",
       "      <td>TEAN-Mic HEL</td>\n",
       "    </tr>\n",
       "    <tr>\n",
       "      <th>12</th>\n",
       "      <td>VALIDATION_0011.jpg</td>\n",
       "      <td>sPRENOM: YUL: EN</td>\n",
       "      <td>YUL: EN</td>\n",
       "    </tr>\n",
       "    <tr>\n",
       "      <th>13</th>\n",
       "      <td>VALIDATION_0012.jpg</td>\n",
       "      <td>ade</td>\n",
       "      <td>ade</td>\n",
       "    </tr>\n",
       "    <tr>\n",
       "      <th>14</th>\n",
       "      <td>VALIDATION_0012.jpg</td>\n",
       "      <td>PRENOM: NACL</td>\n",
       "      <td>NACL</td>\n",
       "    </tr>\n",
       "    <tr>\n",
       "      <th>15</th>\n",
       "      <td>VALIDATION_0013.jpg</td>\n",
       "      <td>NOM: BILGER</td>\n",
       "      <td>BILGER</td>\n",
       "    </tr>\n",
       "    <tr>\n",
       "      <th>16</th>\n",
       "      <td>VALIDATION_0014.jpg</td>\n",
       "      <td>PRENOM.</td>\n",
       "      <td></td>\n",
       "    </tr>\n",
       "    <tr>\n",
       "      <th>17</th>\n",
       "      <td>VALIDATION_0014.jpg</td>\n",
       "      <td>TiFFAWY</td>\n",
       "      <td>TiFFAWY</td>\n",
       "    </tr>\n",
       "    <tr>\n",
       "      <th>18</th>\n",
       "      <td>VALIDATION_0014.jpg</td>\n",
       "      <td>DATE DE NAISSANCE CLASSE.</td>\n",
       "      <td></td>\n",
       "    </tr>\n",
       "    <tr>\n",
       "      <th>19</th>\n",
       "      <td>VALIDATION_0016.jpg</td>\n",
       "      <td>ANTOUME</td>\n",
       "      <td>ANTOUME</td>\n",
       "    </tr>\n",
       "    <tr>\n",
       "      <th>20</th>\n",
       "      <td>VALIDATION_0018.jpg</td>\n",
       "      <td>MIiNETTE</td>\n",
       "      <td>MIiNETTE</td>\n",
       "    </tr>\n",
       "    <tr>\n",
       "      <th>21</th>\n",
       "      <td>VALIDATION_0019.jpg</td>\n",
       "      <td>NOM:</td>\n",
       "      <td></td>\n",
       "    </tr>\n",
       "    <tr>\n",
       "      <th>22</th>\n",
       "      <td>VALIDATION_0019.jpg</td>\n",
       "      <td>”</td>\n",
       "      <td></td>\n",
       "    </tr>\n",
       "    <tr>\n",
       "      <th>23</th>\n",
       "      <td>VALIDATION_0019.jpg</td>\n",
       "      <td>RATNGEVAL</td>\n",
       "      <td>RATNGEVAL</td>\n",
       "    </tr>\n",
       "    <tr>\n",
       "      <th>24</th>\n",
       "      <td>VALIDATION_0020.jpg</td>\n",
       "      <td>PRENOM: Cf i € 374 y</td>\n",
       "      <td>Cf i € 374 y</td>\n",
       "    </tr>\n",
       "    <tr>\n",
       "      <th>25</th>\n",
       "      <td>VALIDATION_0021.jpg</td>\n",
       "      <td>Di BENE DETTO</td>\n",
       "      <td>Di BENE DETTO</td>\n",
       "    </tr>\n",
       "    <tr>\n",
       "      <th>26</th>\n",
       "      <td>VALIDATION_0022.jpg</td>\n",
       "      <td>MAT HIS</td>\n",
       "      <td>MAT HIS</td>\n",
       "    </tr>\n",
       "    <tr>\n",
       "      <th>27</th>\n",
       "      <td>VALIDATION_0024.jpg</td>\n",
       "      <td>SEVES TRE</td>\n",
       "      <td>SEVES TRE</td>\n",
       "    </tr>\n",
       "    <tr>\n",
       "      <th>28</th>\n",
       "      <td>VALIDATION_0025.jpg</td>\n",
       "      <td>DEVANLAY</td>\n",
       "      <td>DEVANLAY</td>\n",
       "    </tr>\n",
       "    <tr>\n",
       "      <th>29</th>\n",
       "      <td>VALIDATION_0026.jpg</td>\n",
       "      <td>HocRVARD</td>\n",
       "      <td>HocRVARD</td>\n",
       "    </tr>\n",
       "    <tr>\n",
       "      <th>30</th>\n",
       "      <td>VALIDATION_0027.jpg</td>\n",
       "      <td>NOM</td>\n",
       "      <td></td>\n",
       "    </tr>\n",
       "    <tr>\n",
       "      <th>31</th>\n",
       "      <td>VALIDATION_0027.jpg</td>\n",
       "      <td>LEBRUN</td>\n",
       "      <td>LEBRUN</td>\n",
       "    </tr>\n",
       "    <tr>\n",
       "      <th>32</th>\n",
       "      <td>VALIDATION_0027.jpg</td>\n",
       "      <td>Weueamucoware UY Te</td>\n",
       "      <td>Weueamucoware UY Te</td>\n",
       "    </tr>\n",
       "    <tr>\n",
       "      <th>33</th>\n",
       "      <td>VALIDATION_0028.jpg</td>\n",
       "      <td>DABIN</td>\n",
       "      <td>DABIN</td>\n",
       "    </tr>\n",
       "    <tr>\n",
       "      <th>34</th>\n",
       "      <td>VALIDATION_0029.jpg</td>\n",
       "      <td></td>\n",
       "      <td></td>\n",
       "    </tr>\n",
       "    <tr>\n",
       "      <th>35</th>\n",
       "      <td>VALIDATION_0029.jpg</td>\n",
       "      <td>NOM</td>\n",
       "      <td></td>\n",
       "    </tr>\n",
       "    <tr>\n",
       "      <th>36</th>\n",
       "      <td>VALIDATION_0029.jpg</td>\n",
       "      <td>SENDO UST</td>\n",
       "      <td>SENDO UST</td>\n",
       "    </tr>\n",
       "    <tr>\n",
       "      <th>37</th>\n",
       "      <td>VALIDATION_0030.jpg</td>\n",
       "      <td>NOM:</td>\n",
       "      <td></td>\n",
       "    </tr>\n",
       "    <tr>\n",
       "      <th>38</th>\n",
       "      <td>VALIDATION_0030.jpg</td>\n",
       "      <td>bi</td>\n",
       "      <td>bi</td>\n",
       "    </tr>\n",
       "    <tr>\n",
       "      <th>39</th>\n",
       "      <td>VALIDATION_0030.jpg</td>\n",
       "      <td>PASQUALE</td>\n",
       "      <td>PASQUALE</td>\n",
       "    </tr>\n",
       "  </tbody>\n",
       "</table>\n",
       "</div>"
      ],
      "text/plain": [
       "               FILENAME                       TEXT               CLEAN_TEXT\n",
       "0   VALIDATION_0001.jpg                      BiLeL                    BiLeL\n",
       "1   VALIDATION_0002.jpg                  LAUMONIER                LAUMONIER\n",
       "2   VALIDATION_0003.jpg                                                    \n",
       "3   VALIDATION_0004.jpg                 JTEAN-ROCH               JTEAN-ROCH\n",
       "4   VALIDATION_0005.jpg                      Ru er                    Ru er\n",
       "5   VALIDATION_0006.jpg    CODERNE/UAI; 0 642494 W  CODERNE/UAI; 0 642494 W\n",
       "6   VALIDATION_0006.jpg                  ‘ne Sey 2                ‘ne Sey 2\n",
       "7   VALIDATION_0007.jpg                                                    \n",
       "8   VALIDATION_0008.jpg                    DAMI EL                  DAMI EL\n",
       "9   VALIDATION_0008.jpg                                                    \n",
       "10  VALIDATION_0009.jpg            RENOM: JERE AMY                 JERE AMY\n",
       "11  VALIDATION_0010.jpg               TEAN-Mic HEL             TEAN-Mic HEL\n",
       "12  VALIDATION_0011.jpg           sPRENOM: YUL: EN                  YUL: EN\n",
       "13  VALIDATION_0012.jpg                        ade                      ade\n",
       "14  VALIDATION_0012.jpg               PRENOM: NACL                     NACL\n",
       "15  VALIDATION_0013.jpg                NOM: BILGER                   BILGER\n",
       "16  VALIDATION_0014.jpg                    PRENOM.                         \n",
       "17  VALIDATION_0014.jpg                    TiFFAWY                  TiFFAWY\n",
       "18  VALIDATION_0014.jpg  DATE DE NAISSANCE CLASSE.                         \n",
       "19  VALIDATION_0016.jpg                    ANTOUME                  ANTOUME\n",
       "20  VALIDATION_0018.jpg                   MIiNETTE                 MIiNETTE\n",
       "21  VALIDATION_0019.jpg                       NOM:                         \n",
       "22  VALIDATION_0019.jpg                          ”                         \n",
       "23  VALIDATION_0019.jpg                  RATNGEVAL                RATNGEVAL\n",
       "24  VALIDATION_0020.jpg       PRENOM: Cf i € 374 y             Cf i € 374 y\n",
       "25  VALIDATION_0021.jpg              Di BENE DETTO            Di BENE DETTO\n",
       "26  VALIDATION_0022.jpg                    MAT HIS                  MAT HIS\n",
       "27  VALIDATION_0024.jpg                  SEVES TRE                SEVES TRE\n",
       "28  VALIDATION_0025.jpg                   DEVANLAY                 DEVANLAY\n",
       "29  VALIDATION_0026.jpg                   HocRVARD                 HocRVARD\n",
       "30  VALIDATION_0027.jpg                        NOM                         \n",
       "31  VALIDATION_0027.jpg                     LEBRUN                   LEBRUN\n",
       "32  VALIDATION_0027.jpg        Weueamucoware UY Te      Weueamucoware UY Te\n",
       "33  VALIDATION_0028.jpg                      DABIN                    DABIN\n",
       "34  VALIDATION_0029.jpg                                                    \n",
       "35  VALIDATION_0029.jpg                        NOM                         \n",
       "36  VALIDATION_0029.jpg                  SENDO UST                SENDO UST\n",
       "37  VALIDATION_0030.jpg                       NOM:                         \n",
       "38  VALIDATION_0030.jpg                         bi                       bi\n",
       "39  VALIDATION_0030.jpg                   PASQUALE                 PASQUALE"
      ]
     },
     "execution_count": 7,
     "metadata": {},
     "output_type": "execute_result"
    }
   ],
   "source": [
    "def filter_tokens(token_list, tokens_to_filter, remove_punctuation = True):\n",
    "    # Punctuation and empty text\n",
    "    punctuation_list = list(string.punctuation) + ['']\n",
    "    result = []\n",
    "    for t in token_list:\n",
    "        # Remove stand-alone punctuation/empty string\n",
    "        # Unicode has some fancy punctuation marks (slanting quotes, for example)\n",
    "        # remove them using unidecode\n",
    "        if remove_punctuation and unidecode(t) in punctuation_list:\n",
    "            continue\n",
    "        \n",
    "        # Remove if any token in tokens_to_filter list is a substring of current token\n",
    "        found = 0\n",
    "        for t_filter in tokens_to_filter:\n",
    "            if t_filter.upper() in t.upper():\n",
    "                # token is matched in tokens_to_filter list\n",
    "                found = 1\n",
    "                break\n",
    "        \n",
    "        if found == 1:\n",
    "            continue\n",
    "        else:\n",
    "            result.append(t)\n",
    "    \n",
    "    return result\n",
    "\n",
    "\n",
    "# Define text to remove\n",
    "SINGLE_TOKENS_REMOVE = ['NOM', 'PRENOM']\n",
    "MULTI_TOKENS_REMOVE = ['DATE DE NAISSANCE CLASSE']\n",
    "\n",
    "# Remove tokens\n",
    "result_df['CLEAN_TEXT'] = result_df['TEXT']\\\n",
    "    .str\\\n",
    "    .split(' ')\\\n",
    "    .apply(lambda c: ' '.join(filter_tokens(c, SINGLE_TOKENS_REMOVE)))\n",
    "\n",
    "for multi_token in MULTI_TOKENS_REMOVE:\n",
    "    result_df['CLEAN_TEXT'] = np.where(result_df['CLEAN_TEXT'].str.contains(multi_token), \n",
    "                                       '', \n",
    "                                       result_df['CLEAN_TEXT'])\n",
    "\n",
    "result_df.head(40)"
   ]
  },
  {
   "cell_type": "code",
   "execution_count": 8,
   "metadata": {
    "execution": {
     "iopub.execute_input": "2021-02-20T00:56:39.087737Z",
     "iopub.status.busy": "2021-02-20T00:56:39.085164Z",
     "iopub.status.idle": "2021-02-20T00:56:40.381414Z",
     "shell.execute_reply": "2021-02-20T00:56:40.380736Z"
    },
    "papermill": {
     "duration": 1.329499,
     "end_time": "2021-02-20T00:56:40.381575",
     "exception": false,
     "start_time": "2021-02-20T00:56:39.052076",
     "status": "completed"
    },
    "tags": []
   },
   "outputs": [
    {
     "data": {
      "text/html": [
       "<div>\n",
       "<style scoped>\n",
       "    .dataframe tbody tr th:only-of-type {\n",
       "        vertical-align: middle;\n",
       "    }\n",
       "\n",
       "    .dataframe tbody tr th {\n",
       "        vertical-align: top;\n",
       "    }\n",
       "\n",
       "    .dataframe thead th {\n",
       "        text-align: right;\n",
       "    }\n",
       "</style>\n",
       "<table border=\"1\" class=\"dataframe\">\n",
       "  <thead>\n",
       "    <tr style=\"text-align: right;\">\n",
       "      <th></th>\n",
       "      <th>FILENAME</th>\n",
       "      <th>CLEAN_TEXT</th>\n",
       "    </tr>\n",
       "  </thead>\n",
       "  <tbody>\n",
       "    <tr>\n",
       "      <th>0</th>\n",
       "      <td>VALIDATION_0001.jpg</td>\n",
       "      <td>BiLeL</td>\n",
       "    </tr>\n",
       "    <tr>\n",
       "      <th>1</th>\n",
       "      <td>VALIDATION_0002.jpg</td>\n",
       "      <td>LAUMONIER</td>\n",
       "    </tr>\n",
       "    <tr>\n",
       "      <th>2</th>\n",
       "      <td>VALIDATION_0003.jpg</td>\n",
       "      <td></td>\n",
       "    </tr>\n",
       "    <tr>\n",
       "      <th>3</th>\n",
       "      <td>VALIDATION_0004.jpg</td>\n",
       "      <td>JTEAN-ROCH</td>\n",
       "    </tr>\n",
       "    <tr>\n",
       "      <th>4</th>\n",
       "      <td>VALIDATION_0005.jpg</td>\n",
       "      <td>Ru er</td>\n",
       "    </tr>\n",
       "    <tr>\n",
       "      <th>5</th>\n",
       "      <td>VALIDATION_0006.jpg</td>\n",
       "      <td>CODERNE/UAI; 0 642494 W‘ne Sey 2</td>\n",
       "    </tr>\n",
       "    <tr>\n",
       "      <th>6</th>\n",
       "      <td>VALIDATION_0007.jpg</td>\n",
       "      <td></td>\n",
       "    </tr>\n",
       "    <tr>\n",
       "      <th>7</th>\n",
       "      <td>VALIDATION_0008.jpg</td>\n",
       "      <td>DAMI EL</td>\n",
       "    </tr>\n",
       "    <tr>\n",
       "      <th>8</th>\n",
       "      <td>VALIDATION_0009.jpg</td>\n",
       "      <td>JERE AMY</td>\n",
       "    </tr>\n",
       "    <tr>\n",
       "      <th>9</th>\n",
       "      <td>VALIDATION_0010.jpg</td>\n",
       "      <td>TEAN-Mic HEL</td>\n",
       "    </tr>\n",
       "    <tr>\n",
       "      <th>10</th>\n",
       "      <td>VALIDATION_0011.jpg</td>\n",
       "      <td>YUL: EN</td>\n",
       "    </tr>\n",
       "    <tr>\n",
       "      <th>11</th>\n",
       "      <td>VALIDATION_0012.jpg</td>\n",
       "      <td>adeNACL</td>\n",
       "    </tr>\n",
       "    <tr>\n",
       "      <th>12</th>\n",
       "      <td>VALIDATION_0013.jpg</td>\n",
       "      <td>BILGER</td>\n",
       "    </tr>\n",
       "    <tr>\n",
       "      <th>13</th>\n",
       "      <td>VALIDATION_0014.jpg</td>\n",
       "      <td>TiFFAWY</td>\n",
       "    </tr>\n",
       "    <tr>\n",
       "      <th>14</th>\n",
       "      <td>VALIDATION_0016.jpg</td>\n",
       "      <td>ANTOUME</td>\n",
       "    </tr>\n",
       "    <tr>\n",
       "      <th>15</th>\n",
       "      <td>VALIDATION_0018.jpg</td>\n",
       "      <td>MIiNETTE</td>\n",
       "    </tr>\n",
       "    <tr>\n",
       "      <th>16</th>\n",
       "      <td>VALIDATION_0019.jpg</td>\n",
       "      <td>RATNGEVAL</td>\n",
       "    </tr>\n",
       "    <tr>\n",
       "      <th>17</th>\n",
       "      <td>VALIDATION_0020.jpg</td>\n",
       "      <td>Cf i € 374 y</td>\n",
       "    </tr>\n",
       "    <tr>\n",
       "      <th>18</th>\n",
       "      <td>VALIDATION_0021.jpg</td>\n",
       "      <td>Di BENE DETTO</td>\n",
       "    </tr>\n",
       "    <tr>\n",
       "      <th>19</th>\n",
       "      <td>VALIDATION_0022.jpg</td>\n",
       "      <td>MAT HIS</td>\n",
       "    </tr>\n",
       "  </tbody>\n",
       "</table>\n",
       "</div>"
      ],
      "text/plain": [
       "               FILENAME                        CLEAN_TEXT\n",
       "0   VALIDATION_0001.jpg                             BiLeL\n",
       "1   VALIDATION_0002.jpg                         LAUMONIER\n",
       "2   VALIDATION_0003.jpg                                  \n",
       "3   VALIDATION_0004.jpg                        JTEAN-ROCH\n",
       "4   VALIDATION_0005.jpg                             Ru er\n",
       "5   VALIDATION_0006.jpg  CODERNE/UAI; 0 642494 W‘ne Sey 2\n",
       "6   VALIDATION_0007.jpg                                  \n",
       "7   VALIDATION_0008.jpg                           DAMI EL\n",
       "8   VALIDATION_0009.jpg                          JERE AMY\n",
       "9   VALIDATION_0010.jpg                      TEAN-Mic HEL\n",
       "10  VALIDATION_0011.jpg                           YUL: EN\n",
       "11  VALIDATION_0012.jpg                           adeNACL\n",
       "12  VALIDATION_0013.jpg                            BILGER\n",
       "13  VALIDATION_0014.jpg                           TiFFAWY\n",
       "14  VALIDATION_0016.jpg                           ANTOUME\n",
       "15  VALIDATION_0018.jpg                          MIiNETTE\n",
       "16  VALIDATION_0019.jpg                         RATNGEVAL\n",
       "17  VALIDATION_0020.jpg                      Cf i € 374 y\n",
       "18  VALIDATION_0021.jpg                     Di BENE DETTO\n",
       "19  VALIDATION_0022.jpg                           MAT HIS"
      ]
     },
     "execution_count": 8,
     "metadata": {},
     "output_type": "execute_result"
    }
   ],
   "source": [
    "clean_result = result_df\\\n",
    "    .groupby('FILENAME')['CLEAN_TEXT']\\\n",
    "    .apply(''.join)\\\n",
    "    .reset_index()\n",
    "\n",
    "clean_result.head(20)"
   ]
  },
  {
   "cell_type": "code",
   "execution_count": 9,
   "metadata": {
    "execution": {
     "iopub.execute_input": "2021-02-20T00:56:40.433969Z",
     "iopub.status.busy": "2021-02-20T00:56:40.432906Z",
     "iopub.status.idle": "2021-02-20T00:56:40.553471Z",
     "shell.execute_reply": "2021-02-20T00:56:40.552778Z"
    },
    "papermill": {
     "duration": 0.149528,
     "end_time": "2021-02-20T00:56:40.553623",
     "exception": false,
     "start_time": "2021-02-20T00:56:40.404095",
     "status": "completed"
    },
    "tags": []
   },
   "outputs": [
    {
     "data": {
      "text/html": [
       "<div>\n",
       "<style scoped>\n",
       "    .dataframe tbody tr th:only-of-type {\n",
       "        vertical-align: middle;\n",
       "    }\n",
       "\n",
       "    .dataframe tbody tr th {\n",
       "        vertical-align: top;\n",
       "    }\n",
       "\n",
       "    .dataframe thead th {\n",
       "        text-align: right;\n",
       "    }\n",
       "</style>\n",
       "<table border=\"1\" class=\"dataframe\">\n",
       "  <thead>\n",
       "    <tr style=\"text-align: right;\">\n",
       "      <th></th>\n",
       "      <th>FILENAME</th>\n",
       "      <th>IDENTITY</th>\n",
       "      <th>CLEAN_TEXT</th>\n",
       "    </tr>\n",
       "  </thead>\n",
       "  <tbody>\n",
       "    <tr>\n",
       "      <th>0</th>\n",
       "      <td>VALIDATION_0001.jpg</td>\n",
       "      <td>BILEL</td>\n",
       "      <td>BiLeL</td>\n",
       "    </tr>\n",
       "    <tr>\n",
       "      <th>1</th>\n",
       "      <td>VALIDATION_0002.jpg</td>\n",
       "      <td>LAUMIONIER</td>\n",
       "      <td>LAUMONIER</td>\n",
       "    </tr>\n",
       "    <tr>\n",
       "      <th>2</th>\n",
       "      <td>VALIDATION_0003.jpg</td>\n",
       "      <td>LEA</td>\n",
       "      <td></td>\n",
       "    </tr>\n",
       "    <tr>\n",
       "      <th>3</th>\n",
       "      <td>VALIDATION_0004.jpg</td>\n",
       "      <td>JEAN-ROCH</td>\n",
       "      <td>JTEAN-ROCH</td>\n",
       "    </tr>\n",
       "    <tr>\n",
       "      <th>4</th>\n",
       "      <td>VALIDATION_0005.jpg</td>\n",
       "      <td>RUPP</td>\n",
       "      <td>Ruer</td>\n",
       "    </tr>\n",
       "    <tr>\n",
       "      <th>5</th>\n",
       "      <td>VALIDATION_0006.jpg</td>\n",
       "      <td>UNREADABLE</td>\n",
       "      <td>CODERNE/UAI;0642494W‘neSey2</td>\n",
       "    </tr>\n",
       "    <tr>\n",
       "      <th>6</th>\n",
       "      <td>VALIDATION_0007.jpg</td>\n",
       "      <td>PICHON</td>\n",
       "      <td></td>\n",
       "    </tr>\n",
       "    <tr>\n",
       "      <th>7</th>\n",
       "      <td>VALIDATION_0008.jpg</td>\n",
       "      <td>DANIEL</td>\n",
       "      <td>DAMIEL</td>\n",
       "    </tr>\n",
       "    <tr>\n",
       "      <th>8</th>\n",
       "      <td>VALIDATION_0009.jpg</td>\n",
       "      <td>JEREMY</td>\n",
       "      <td>JEREAMY</td>\n",
       "    </tr>\n",
       "    <tr>\n",
       "      <th>9</th>\n",
       "      <td>VALIDATION_0010.jpg</td>\n",
       "      <td>JEAN-MICHEL</td>\n",
       "      <td>TEAN-MicHEL</td>\n",
       "    </tr>\n",
       "  </tbody>\n",
       "</table>\n",
       "</div>"
      ],
      "text/plain": [
       "              FILENAME     IDENTITY                   CLEAN_TEXT\n",
       "0  VALIDATION_0001.jpg        BILEL                        BiLeL\n",
       "1  VALIDATION_0002.jpg   LAUMIONIER                    LAUMONIER\n",
       "2  VALIDATION_0003.jpg          LEA                             \n",
       "3  VALIDATION_0004.jpg    JEAN-ROCH                   JTEAN-ROCH\n",
       "4  VALIDATION_0005.jpg         RUPP                         Ruer\n",
       "5  VALIDATION_0006.jpg   UNREADABLE  CODERNE/UAI;0642494W‘neSey2\n",
       "6  VALIDATION_0007.jpg       PICHON                             \n",
       "7  VALIDATION_0008.jpg       DANIEL                       DAMIEL\n",
       "8  VALIDATION_0009.jpg       JEREMY                      JEREAMY\n",
       "9  VALIDATION_0010.jpg  JEAN-MICHEL                  TEAN-MicHEL"
      ]
     },
     "execution_count": 9,
     "metadata": {},
     "output_type": "execute_result"
    }
   ],
   "source": [
    "ocr_vs_actual = validation_df.merge(clean_result, how='left', on='FILENAME')\n",
    "\n",
    "# Remove labels which do not exist\n",
    "ocr_vs_actual = ocr_vs_actual.loc[ocr_vs_actual['IDENTITY'].notnull(), :]\n",
    "\n",
    "# Remove spaces in OCR output\n",
    "ocr_vs_actual['CLEAN_TEXT'] = ocr_vs_actual['CLEAN_TEXT'].str.replace('\\\\s', '', regex=True)\n",
    "ocr_vs_actual.head(10)"
   ]
  },
  {
   "cell_type": "code",
   "execution_count": 10,
   "metadata": {
    "execution": {
     "iopub.execute_input": "2021-02-20T00:56:40.614479Z",
     "iopub.status.busy": "2021-02-20T00:56:40.608983Z",
     "iopub.status.idle": "2021-02-20T00:56:40.697892Z",
     "shell.execute_reply": "2021-02-20T00:56:40.697170Z"
    },
    "papermill": {
     "duration": 0.12157,
     "end_time": "2021-02-20T00:56:40.698056",
     "exception": false,
     "start_time": "2021-02-20T00:56:40.576486",
     "status": "completed"
    },
    "tags": []
   },
   "outputs": [
    {
     "data": {
      "text/html": [
       "<div>\n",
       "<style scoped>\n",
       "    .dataframe tbody tr th:only-of-type {\n",
       "        vertical-align: middle;\n",
       "    }\n",
       "\n",
       "    .dataframe tbody tr th {\n",
       "        vertical-align: top;\n",
       "    }\n",
       "\n",
       "    .dataframe thead th {\n",
       "        text-align: right;\n",
       "    }\n",
       "</style>\n",
       "<table border=\"1\" class=\"dataframe\">\n",
       "  <thead>\n",
       "    <tr style=\"text-align: right;\">\n",
       "      <th></th>\n",
       "      <th>FILENAME</th>\n",
       "      <th>IDENTITY</th>\n",
       "      <th>CLEAN_TEXT</th>\n",
       "      <th>SIMILARITY_SCORE</th>\n",
       "    </tr>\n",
       "  </thead>\n",
       "  <tbody>\n",
       "    <tr>\n",
       "      <th>0</th>\n",
       "      <td>VALIDATION_0001.jpg</td>\n",
       "      <td>BILEL</td>\n",
       "      <td>BiLeL</td>\n",
       "      <td>1.000000</td>\n",
       "    </tr>\n",
       "    <tr>\n",
       "      <th>1</th>\n",
       "      <td>VALIDATION_0002.jpg</td>\n",
       "      <td>LAUMIONIER</td>\n",
       "      <td>LAUMONIER</td>\n",
       "      <td>0.946667</td>\n",
       "    </tr>\n",
       "    <tr>\n",
       "      <th>2</th>\n",
       "      <td>VALIDATION_0003.jpg</td>\n",
       "      <td>LEA</td>\n",
       "      <td></td>\n",
       "      <td>0.000000</td>\n",
       "    </tr>\n",
       "    <tr>\n",
       "      <th>3</th>\n",
       "      <td>VALIDATION_0004.jpg</td>\n",
       "      <td>JEAN-ROCH</td>\n",
       "      <td>JTEAN-ROCH</td>\n",
       "      <td>0.970000</td>\n",
       "    </tr>\n",
       "    <tr>\n",
       "      <th>4</th>\n",
       "      <td>VALIDATION_0005.jpg</td>\n",
       "      <td>RUPP</td>\n",
       "      <td>Ruer</td>\n",
       "      <td>0.733333</td>\n",
       "    </tr>\n",
       "    <tr>\n",
       "      <th>5</th>\n",
       "      <td>VALIDATION_0006.jpg</td>\n",
       "      <td>UNREADABLE</td>\n",
       "      <td>CODERNE/UAI;0642494W‘neSey2</td>\n",
       "      <td>0.440741</td>\n",
       "    </tr>\n",
       "    <tr>\n",
       "      <th>6</th>\n",
       "      <td>VALIDATION_0007.jpg</td>\n",
       "      <td>PICHON</td>\n",
       "      <td></td>\n",
       "      <td>0.000000</td>\n",
       "    </tr>\n",
       "    <tr>\n",
       "      <th>7</th>\n",
       "      <td>VALIDATION_0008.jpg</td>\n",
       "      <td>DANIEL</td>\n",
       "      <td>DAMIEL</td>\n",
       "      <td>0.911111</td>\n",
       "    </tr>\n",
       "    <tr>\n",
       "      <th>8</th>\n",
       "      <td>VALIDATION_0009.jpg</td>\n",
       "      <td>JEREMY</td>\n",
       "      <td>JEREAMY</td>\n",
       "      <td>0.971429</td>\n",
       "    </tr>\n",
       "    <tr>\n",
       "      <th>9</th>\n",
       "      <td>VALIDATION_0010.jpg</td>\n",
       "      <td>JEAN-MICHEL</td>\n",
       "      <td>TEAN-MicHEL</td>\n",
       "      <td>0.939394</td>\n",
       "    </tr>\n",
       "  </tbody>\n",
       "</table>\n",
       "</div>"
      ],
      "text/plain": [
       "              FILENAME     IDENTITY                   CLEAN_TEXT  \\\n",
       "0  VALIDATION_0001.jpg        BILEL                        BiLeL   \n",
       "1  VALIDATION_0002.jpg   LAUMIONIER                    LAUMONIER   \n",
       "2  VALIDATION_0003.jpg          LEA                                \n",
       "3  VALIDATION_0004.jpg    JEAN-ROCH                   JTEAN-ROCH   \n",
       "4  VALIDATION_0005.jpg         RUPP                         Ruer   \n",
       "5  VALIDATION_0006.jpg   UNREADABLE  CODERNE/UAI;0642494W‘neSey2   \n",
       "6  VALIDATION_0007.jpg       PICHON                                \n",
       "7  VALIDATION_0008.jpg       DANIEL                       DAMIEL   \n",
       "8  VALIDATION_0009.jpg       JEREMY                      JEREAMY   \n",
       "9  VALIDATION_0010.jpg  JEAN-MICHEL                  TEAN-MicHEL   \n",
       "\n",
       "   SIMILARITY_SCORE  \n",
       "0          1.000000  \n",
       "1          0.946667  \n",
       "2          0.000000  \n",
       "3          0.970000  \n",
       "4          0.733333  \n",
       "5          0.440741  \n",
       "6          0.000000  \n",
       "7          0.911111  \n",
       "8          0.971429  \n",
       "9          0.939394  "
      ]
     },
     "execution_count": 10,
     "metadata": {},
     "output_type": "execute_result"
    }
   ],
   "source": [
    "vectorized_jaro_winkler = np.vectorize(jaro_winkler)\n",
    "\n",
    "ocr_vs_actual['SIMILARITY_SCORE'] = vectorized_jaro_winkler(ocr_vs_actual['IDENTITY'].str.upper(), \n",
    "                                                            np.where(ocr_vs_actual['CLEAN_TEXT'].isnull(), \n",
    "                                                                     '', \n",
    "                                                                     ocr_vs_actual['CLEAN_TEXT'].str.upper()))\n",
    "ocr_vs_actual.head(10)"
   ]
  },
  {
   "cell_type": "code",
   "execution_count": 11,
   "metadata": {
    "execution": {
     "iopub.execute_input": "2021-02-20T00:56:40.772286Z",
     "iopub.status.busy": "2021-02-20T00:56:40.771586Z",
     "iopub.status.idle": "2021-02-20T00:56:41.054619Z",
     "shell.execute_reply": "2021-02-20T00:56:41.054021Z"
    },
    "papermill": {
     "duration": 0.332097,
     "end_time": "2021-02-20T00:56:41.054769",
     "exception": false,
     "start_time": "2021-02-20T00:56:40.722672",
     "status": "completed"
    },
    "tags": []
   },
   "outputs": [
    {
     "data": {
      "image/png": "[encoded data removed]",
      "text/plain": [
       "<Figure size 960x360 with 1 Axes>"
      ]
     },
     "metadata": {},
     "output_type": "display_data"
    }
   ],
   "source": [
    "plt.style.use('seaborn-white')\n",
    "plt.figure(figsize=(8,3), dpi=120)\n",
    "plt.hist(ocr_vs_actual['SIMILARITY_SCORE'], bins=50, alpha=0.5, color='steelblue', edgecolor='none')\n",
    "plt.title('Histogram of Jaro-Winkler similarity score between label and OCR-results')\n",
    "plt.show()"
   ]
  },
  {
   "cell_type": "code",
   "execution_count": 12,
   "metadata": {
    "execution": {
     "iopub.execute_input": "2021-02-20T00:56:41.112242Z",
     "iopub.status.busy": "2021-02-20T00:56:41.111564Z",
     "iopub.status.idle": "2021-02-20T00:56:41.254084Z",
     "shell.execute_reply": "2021-02-20T00:56:41.253501Z"
    },
    "papermill": {
     "duration": 0.174509,
     "end_time": "2021-02-20T00:56:41.254243",
     "exception": false,
     "start_time": "2021-02-20T00:56:41.079734",
     "status": "completed"
    },
    "tags": []
   },
   "outputs": [
    {
     "data": {
      "text/plain": [
       "no-match       4883\n",
       "1               144\n",
       "2               812\n",
       "3              1388\n",
       "4              1179\n",
       "5              1747\n",
       "6              2872\n",
       "7              4858\n",
       "8              8087\n",
       "9               858\n",
       "10              880\n",
       "11              782\n",
       "12              464\n",
       "best-match    12338\n",
       "Name: BINS, dtype: int64"
      ]
     },
     "execution_count": 12,
     "metadata": {},
     "output_type": "execute_result"
    }
   ],
   "source": [
    "second_lowest_score = ocr_vs_actual.loc[(ocr_vs_actual['SIMILARITY_SCORE'] != 0), 'SIMILARITY_SCORE'].min()\n",
    "\n",
    "ocr_vs_actual['BINS'] = pd.cut(ocr_vs_actual['SIMILARITY_SCORE'], \n",
    "                               bins=[0] + np.linspace(second_lowest_score, 0.95, 9).tolist() + [0.96, 0.97, 0.98, 0.99, 1.01], \n",
    "                               labels = ['no-match', '1', '2', '3', '4', '5', '6', '7', '8', '9', '10', '11', '12', 'best-match'],\n",
    "                               right=False)\n",
    "ocr_vs_actual['BINS'].value_counts().sort_index()"
   ]
  },
  {
   "cell_type": "code",
   "execution_count": 13,
   "metadata": {
    "execution": {
     "iopub.execute_input": "2021-02-20T00:56:41.313624Z",
     "iopub.status.busy": "2021-02-20T00:56:41.312466Z",
     "iopub.status.idle": "2021-02-20T00:56:41.352397Z",
     "shell.execute_reply": "2021-02-20T00:56:41.352888Z"
    },
    "papermill": {
     "duration": 0.073629,
     "end_time": "2021-02-20T00:56:41.353084",
     "exception": false,
     "start_time": "2021-02-20T00:56:41.279455",
     "status": "completed"
    },
    "tags": []
   },
   "outputs": [
    {
     "name": "stdout",
     "output_type": "stream",
     "text": [
      "Filename: VALIDATION_3406.jpg\n",
      "Actual: ANNA\n",
      "OCR: ANNA\n"
     ]
    },
    {
     "data": {
      "image/jpeg": "[encoded data removed]",
      "text/plain": [
       "<IPython.core.display.Image object>"
      ]
     },
     "metadata": {},
     "output_type": "display_data"
    },
    {
     "name": "stdout",
     "output_type": "stream",
     "text": [
      "Filename: VALIDATION_4993.jpg\n",
      "Actual: NOEMIE\n",
      "OCR: NOEMIE\n"
     ]
    },
    {
     "data": {
      "image/jpeg": "[encoded data removed]",
      "text/plain": [
       "<IPython.core.display.Image object>"
      ]
     },
     "metadata": {},
     "output_type": "display_data"
    },
    {
     "name": "stdout",
     "output_type": "stream",
     "text": [
      "Filename: VALIDATION_28928.jpg\n",
      "Actual: SOLANO\n",
      "OCR: SOLANO\n"
     ]
    },
    {
     "data": {
      "image/jpeg": "[encoded data removed]",
      "text/plain": [
       "<IPython.core.display.Image object>"
      ]
     },
     "metadata": {},
     "output_type": "display_data"
    },
    {
     "name": "stdout",
     "output_type": "stream",
     "text": [
      "Filename: VALIDATION_32240.jpg\n",
      "Actual: LOU-CARL\n",
      "OCR: LOU-CARL\n"
     ]
    },
    {
     "data": {
      "image/jpeg": "[encoded data removed]",
      "text/plain": [
       "<IPython.core.display.Image object>"
      ]
     },
     "metadata": {},
     "output_type": "display_data"
    },
    {
     "name": "stdout",
     "output_type": "stream",
     "text": [
      "Filename: VALIDATION_40043.jpg\n",
      "Actual: ARTHUR\n",
      "OCR: ARTHUR\n"
     ]
    },
    {
     "data": {
      "image/jpeg": "[encoded data removed]",
      "text/plain": [
       "<IPython.core.display.Image object>"
      ]
     },
     "metadata": {},
     "output_type": "display_data"
    }
   ],
   "source": [
    "NUMBER_OF_IMAGES = 5\n",
    "random_filename = np.random.choice(ocr_vs_actual.loc[ocr_vs_actual['BINS'] == 'best-match', 'FILENAME'].tolist(), NUMBER_OF_IMAGES, False)\n",
    "for row in ocr_vs_actual.loc[ocr_vs_actual['FILENAME'].isin(random_filename), :].itertuples(index=False):\n",
    "    filename = os.path.join(PATH, row.FILENAME)\n",
    "    print(f\"\"\"Filename: {row.FILENAME}\\nActual: {row.IDENTITY}\\nOCR: {row.CLEAN_TEXT}\"\"\")\n",
    "    display(IPythonImage(filename=filename))"
   ]
  },
  {
   "cell_type": "code",
   "execution_count": 14,
   "metadata": {
    "execution": {
     "iopub.execute_input": "2021-02-20T00:56:41.416370Z",
     "iopub.status.busy": "2021-02-20T00:56:41.415700Z",
     "iopub.status.idle": "2021-02-20T00:56:41.453544Z",
     "shell.execute_reply": "2021-02-20T00:56:41.452898Z"
    },
    "papermill": {
     "duration": 0.070631,
     "end_time": "2021-02-20T00:56:41.453704",
     "exception": false,
     "start_time": "2021-02-20T00:56:41.383073",
     "status": "completed"
    },
    "tags": []
   },
   "outputs": [
    {
     "name": "stdout",
     "output_type": "stream",
     "text": [
      "Filename: VALIDATION_7716.jpg\n",
      "Actual: JOURNE\n",
      "OCR: TOURNE\n"
     ]
    },
    {
     "data": {
      "image/jpeg": "[encoded data removed]",
      "text/plain": [
       "<IPython.core.display.Image object>"
      ]
     },
     "metadata": {},
     "output_type": "display_data"
    },
    {
     "name": "stdout",
     "output_type": "stream",
     "text": [
      "Filename: VALIDATION_8272.jpg\n",
      "Actual: THIBAUT\n",
      "OCR: TheIBAUTaww\n"
     ]
    },
    {
     "data": {
      "image/jpeg": "[encoded data removed]",
      "text/plain": [
       "<IPython.core.display.Image object>"
      ]
     },
     "metadata": {},
     "output_type": "display_data"
    },
    {
     "name": "stdout",
     "output_type": "stream",
     "text": [
      "Filename: VALIDATION_18694.jpg\n",
      "Actual: MOULIN\n",
      "OCR: MOULIN“eehee\n"
     ]
    },
    {
     "data": {
      "image/jpeg": "[encoded data removed]",
      "text/plain": [
       "<IPython.core.display.Image object>"
      ]
     },
     "metadata": {},
     "output_type": "display_data"
    },
    {
     "name": "stdout",
     "output_type": "stream",
     "text": [
      "Filename: VALIDATION_29654.jpg\n",
      "Actual: LOUIN\n",
      "OCR: Lovin\n"
     ]
    },
    {
     "data": {
      "image/jpeg": "[encoded data removed]",
      "text/plain": [
       "<IPython.core.display.Image object>"
      ]
     },
     "metadata": {},
     "output_type": "display_data"
    },
    {
     "name": "stdout",
     "output_type": "stream",
     "text": [
      "Filename: VALIDATION_30102.jpg\n",
      "Actual: THOMAS\n",
      "OCR: Thowas\n"
     ]
    },
    {
     "data": {
      "image/jpeg": "[encoded data removed]",
      "text/plain": [
       "<IPython.core.display.Image object>"
      ]
     },
     "metadata": {},
     "output_type": "display_data"
    }
   ],
   "source": [
    "NUMBER_OF_IMAGES = 5\n",
    "random_filename = np.random.choice(ocr_vs_actual.loc[ocr_vs_actual['BINS'] == '8', 'FILENAME'].tolist(), NUMBER_OF_IMAGES, False)\n",
    "for row in ocr_vs_actual.loc[ocr_vs_actual['FILENAME'].isin(random_filename), :].itertuples(index=False):\n",
    "    filename = os.path.join(PATH, row.FILENAME)\n",
    "    print(f\"\"\"Filename: {row.FILENAME}\\nActual: {row.IDENTITY}\\nOCR: {row.CLEAN_TEXT}\"\"\")\n",
    "    display(IPythonImage(filename=filename))"
   ]
  },
  {
   "cell_type": "code",
   "execution_count": 15,
   "metadata": {
    "execution": {
     "iopub.execute_input": "2021-02-20T00:56:41.539163Z",
     "iopub.status.busy": "2021-02-20T00:56:41.538385Z",
     "iopub.status.idle": "2021-02-20T00:56:41.559124Z",
     "shell.execute_reply": "2021-02-20T00:56:41.558498Z"
    },
    "papermill": {
     "duration": 0.071042,
     "end_time": "2021-02-20T00:56:41.559298",
     "exception": false,
     "start_time": "2021-02-20T00:56:41.488256",
     "status": "completed"
    },
    "tags": []
   },
   "outputs": [
    {
     "name": "stdout",
     "output_type": "stream",
     "text": [
      "Filename: VALIDATION_5008.jpg\n",
      "Actual: ELODIE\n",
      "OCR: nan\n"
     ]
    },
    {
     "data": {
      "image/jpeg": "[encoded data removed]",
      "text/plain": [
       "<IPython.core.display.Image object>"
      ]
     },
     "metadata": {},
     "output_type": "display_data"
    },
    {
     "name": "stdout",
     "output_type": "stream",
     "text": [
      "Filename: VALIDATION_16019.jpg\n",
      "Actual: DE-MUYT\n",
      "OCR: nan\n"
     ]
    },
    {
     "data": {
      "image/jpeg": "[encoded data removed]",
      "text/plain": [
       "<IPython.core.display.Image object>"
      ]
     },
     "metadata": {},
     "output_type": "display_data"
    },
    {
     "name": "stdout",
     "output_type": "stream",
     "text": [
      "Filename: VALIDATION_18467.jpg\n",
      "Actual: AIJ\n",
      "OCR: CODERNE/UAIZO974659Heeelegee\n"
     ]
    },
    {
     "data": {
      "image/jpeg": "[encoded data removed]",
      "text/plain": [
       "<IPython.core.display.Image object>"
      ]
     },
     "metadata": {},
     "output_type": "display_data"
    },
    {
     "name": "stdout",
     "output_type": "stream",
     "text": [
      "Filename: VALIDATION_19825.jpg\n",
      "Actual: A\n",
      "OCR: \n"
     ]
    },
    {
     "data": {
      "image/jpeg": "[encoded data removed]",
      "text/plain": [
       "<IPython.core.display.Image object>"
      ]
     },
     "metadata": {},
     "output_type": "display_data"
    },
    {
     "name": "stdout",
     "output_type": "stream",
     "text": [
      "Filename: VALIDATION_34881.jpg\n",
      "Actual: EMPTY\n",
      "OCR: nan\n"
     ]
    },
    {
     "data": {
      "image/jpeg": "[encoded data removed]",
      "text/plain": [
       "<IPython.core.display.Image object>"
      ]
     },
     "metadata": {},
     "output_type": "display_data"
    }
   ],
   "source": [
    "NUMBER_OF_IMAGES = 5\n",
    "random_filename = np.random.choice(ocr_vs_actual.loc[ocr_vs_actual['BINS'] == 'no-match', 'FILENAME'].tolist(), NUMBER_OF_IMAGES, False)\n",
    "for row in ocr_vs_actual.loc[ocr_vs_actual['FILENAME'].isin(random_filename), :].itertuples(index=False):\n",
    "    filename = os.path.join(PATH, row.FILENAME)\n",
    "    print(f\"\"\"Filename: {row.FILENAME}\\nActual: {row.IDENTITY}\\nOCR: {row.CLEAN_TEXT}\"\"\")\n",
    "    display(IPythonImage(filename=filename))"
   ]
  }
 ],
 "metadata": {
  "kernelspec": {
   "display_name": "Python 3",
   "language": "python",
   "name": "python3"
  },
  "language_info": {
   "codemirror_mode": {
    "name": "ipython",
    "version": 3
   },
   "file_extension": ".py",
   "mimetype": "text/x-python",
   "name": "python",
   "nbconvert_exporter": "python",
   "pygments_lexer": "ipython3",
   "version": "3.7.9"
  },
  "papermill": {
   "default_parameters": {},
   "duration": 7687.150698,
   "end_time": "2021-02-20T00:56:42.210459",
   "environment_variables": {},
   "exception": null,
   "input_path": "__notebook__.ipynb",
   "output_path": "__notebook__.ipynb",
   "parameters": {},
   "start_time": "2021-02-19T22:48:35.059761",
   "version": "2.2.2"
  }
 },
 "nbformat": 4,
 "nbformat_minor": 4
}
